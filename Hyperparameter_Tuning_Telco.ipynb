{
  "cells": [
    {
      "cell_type": "markdown",
      "id": "1e266fe2",
      "metadata": {
        "id": "1e266fe2"
      },
      "source": [
        "# 🔍 Hyperparameter Tuning: Grid Search vs Random Search vs Bayesian Optimization\n",
        "Using the Telco Customer Churn Dataset"
      ]
    },
    {
      "cell_type": "markdown",
      "id": "f855e02b",
      "metadata": {
        "id": "f855e02b"
      },
      "source": [
        "## Step 1: Load and Inspect the Dataset\n",
        "\n",
        "**What it does:** This step loads the Telco Customer Churn dataset into a Pandas DataFrame (`df`) and displays the first few rows using `df.head()`.\n",
        "**Why it's important:**  It allows us to understand the structure and contents of the data before proceeding with analysis."
      ]
    },
    {
      "cell_type": "code",
      "execution_count": 1,
      "id": "2a22210c",
      "metadata": {
        "colab": {
          "base_uri": "https://localhost:8080/",
          "height": 342
        },
        "id": "2a22210c",
        "outputId": "818b40d4-ec77-4b50-fc1b-5704fd04764a"
      },
      "outputs": [
        {
          "output_type": "execute_result",
          "data": {
            "text/plain": [
              "   customerID  gender  SeniorCitizen Partner Dependents  tenure PhoneService  \\\n",
              "0  7590-VHVEG  Female              0     Yes         No       1           No   \n",
              "1  5575-GNVDE    Male              0      No         No      34          Yes   \n",
              "2  3668-QPYBK    Male              0      No         No       2          Yes   \n",
              "3  7795-CFOCW    Male              0      No         No      45           No   \n",
              "4  9237-HQITU  Female              0      No         No       2          Yes   \n",
              "\n",
              "      MultipleLines InternetService OnlineSecurity  ... DeviceProtection  \\\n",
              "0  No phone service             DSL             No  ...               No   \n",
              "1                No             DSL            Yes  ...              Yes   \n",
              "2                No             DSL            Yes  ...               No   \n",
              "3  No phone service             DSL            Yes  ...              Yes   \n",
              "4                No     Fiber optic             No  ...               No   \n",
              "\n",
              "  TechSupport StreamingTV StreamingMovies        Contract PaperlessBilling  \\\n",
              "0          No          No              No  Month-to-month              Yes   \n",
              "1          No          No              No        One year               No   \n",
              "2          No          No              No  Month-to-month              Yes   \n",
              "3         Yes          No              No        One year               No   \n",
              "4          No          No              No  Month-to-month              Yes   \n",
              "\n",
              "               PaymentMethod MonthlyCharges  TotalCharges Churn  \n",
              "0           Electronic check          29.85         29.85    No  \n",
              "1               Mailed check          56.95        1889.5    No  \n",
              "2               Mailed check          53.85        108.15   Yes  \n",
              "3  Bank transfer (automatic)          42.30       1840.75    No  \n",
              "4           Electronic check          70.70        151.65   Yes  \n",
              "\n",
              "[5 rows x 21 columns]"
            ],
            "text/html": [
              "\n",
              "  <div id=\"df-a21b4a0f-dcc9-4acf-8083-0d57b9e0b5ab\" class=\"colab-df-container\">\n",
              "    <div>\n",
              "<style scoped>\n",
              "    .dataframe tbody tr th:only-of-type {\n",
              "        vertical-align: middle;\n",
              "    }\n",
              "\n",
              "    .dataframe tbody tr th {\n",
              "        vertical-align: top;\n",
              "    }\n",
              "\n",
              "    .dataframe thead th {\n",
              "        text-align: right;\n",
              "    }\n",
              "</style>\n",
              "<table border=\"1\" class=\"dataframe\">\n",
              "  <thead>\n",
              "    <tr style=\"text-align: right;\">\n",
              "      <th></th>\n",
              "      <th>customerID</th>\n",
              "      <th>gender</th>\n",
              "      <th>SeniorCitizen</th>\n",
              "      <th>Partner</th>\n",
              "      <th>Dependents</th>\n",
              "      <th>tenure</th>\n",
              "      <th>PhoneService</th>\n",
              "      <th>MultipleLines</th>\n",
              "      <th>InternetService</th>\n",
              "      <th>OnlineSecurity</th>\n",
              "      <th>...</th>\n",
              "      <th>DeviceProtection</th>\n",
              "      <th>TechSupport</th>\n",
              "      <th>StreamingTV</th>\n",
              "      <th>StreamingMovies</th>\n",
              "      <th>Contract</th>\n",
              "      <th>PaperlessBilling</th>\n",
              "      <th>PaymentMethod</th>\n",
              "      <th>MonthlyCharges</th>\n",
              "      <th>TotalCharges</th>\n",
              "      <th>Churn</th>\n",
              "    </tr>\n",
              "  </thead>\n",
              "  <tbody>\n",
              "    <tr>\n",
              "      <th>0</th>\n",
              "      <td>7590-VHVEG</td>\n",
              "      <td>Female</td>\n",
              "      <td>0</td>\n",
              "      <td>Yes</td>\n",
              "      <td>No</td>\n",
              "      <td>1</td>\n",
              "      <td>No</td>\n",
              "      <td>No phone service</td>\n",
              "      <td>DSL</td>\n",
              "      <td>No</td>\n",
              "      <td>...</td>\n",
              "      <td>No</td>\n",
              "      <td>No</td>\n",
              "      <td>No</td>\n",
              "      <td>No</td>\n",
              "      <td>Month-to-month</td>\n",
              "      <td>Yes</td>\n",
              "      <td>Electronic check</td>\n",
              "      <td>29.85</td>\n",
              "      <td>29.85</td>\n",
              "      <td>No</td>\n",
              "    </tr>\n",
              "    <tr>\n",
              "      <th>1</th>\n",
              "      <td>5575-GNVDE</td>\n",
              "      <td>Male</td>\n",
              "      <td>0</td>\n",
              "      <td>No</td>\n",
              "      <td>No</td>\n",
              "      <td>34</td>\n",
              "      <td>Yes</td>\n",
              "      <td>No</td>\n",
              "      <td>DSL</td>\n",
              "      <td>Yes</td>\n",
              "      <td>...</td>\n",
              "      <td>Yes</td>\n",
              "      <td>No</td>\n",
              "      <td>No</td>\n",
              "      <td>No</td>\n",
              "      <td>One year</td>\n",
              "      <td>No</td>\n",
              "      <td>Mailed check</td>\n",
              "      <td>56.95</td>\n",
              "      <td>1889.5</td>\n",
              "      <td>No</td>\n",
              "    </tr>\n",
              "    <tr>\n",
              "      <th>2</th>\n",
              "      <td>3668-QPYBK</td>\n",
              "      <td>Male</td>\n",
              "      <td>0</td>\n",
              "      <td>No</td>\n",
              "      <td>No</td>\n",
              "      <td>2</td>\n",
              "      <td>Yes</td>\n",
              "      <td>No</td>\n",
              "      <td>DSL</td>\n",
              "      <td>Yes</td>\n",
              "      <td>...</td>\n",
              "      <td>No</td>\n",
              "      <td>No</td>\n",
              "      <td>No</td>\n",
              "      <td>No</td>\n",
              "      <td>Month-to-month</td>\n",
              "      <td>Yes</td>\n",
              "      <td>Mailed check</td>\n",
              "      <td>53.85</td>\n",
              "      <td>108.15</td>\n",
              "      <td>Yes</td>\n",
              "    </tr>\n",
              "    <tr>\n",
              "      <th>3</th>\n",
              "      <td>7795-CFOCW</td>\n",
              "      <td>Male</td>\n",
              "      <td>0</td>\n",
              "      <td>No</td>\n",
              "      <td>No</td>\n",
              "      <td>45</td>\n",
              "      <td>No</td>\n",
              "      <td>No phone service</td>\n",
              "      <td>DSL</td>\n",
              "      <td>Yes</td>\n",
              "      <td>...</td>\n",
              "      <td>Yes</td>\n",
              "      <td>Yes</td>\n",
              "      <td>No</td>\n",
              "      <td>No</td>\n",
              "      <td>One year</td>\n",
              "      <td>No</td>\n",
              "      <td>Bank transfer (automatic)</td>\n",
              "      <td>42.30</td>\n",
              "      <td>1840.75</td>\n",
              "      <td>No</td>\n",
              "    </tr>\n",
              "    <tr>\n",
              "      <th>4</th>\n",
              "      <td>9237-HQITU</td>\n",
              "      <td>Female</td>\n",
              "      <td>0</td>\n",
              "      <td>No</td>\n",
              "      <td>No</td>\n",
              "      <td>2</td>\n",
              "      <td>Yes</td>\n",
              "      <td>No</td>\n",
              "      <td>Fiber optic</td>\n",
              "      <td>No</td>\n",
              "      <td>...</td>\n",
              "      <td>No</td>\n",
              "      <td>No</td>\n",
              "      <td>No</td>\n",
              "      <td>No</td>\n",
              "      <td>Month-to-month</td>\n",
              "      <td>Yes</td>\n",
              "      <td>Electronic check</td>\n",
              "      <td>70.70</td>\n",
              "      <td>151.65</td>\n",
              "      <td>Yes</td>\n",
              "    </tr>\n",
              "  </tbody>\n",
              "</table>\n",
              "<p>5 rows × 21 columns</p>\n",
              "</div>\n",
              "    <div class=\"colab-df-buttons\">\n",
              "\n",
              "  <div class=\"colab-df-container\">\n",
              "    <button class=\"colab-df-convert\" onclick=\"convertToInteractive('df-a21b4a0f-dcc9-4acf-8083-0d57b9e0b5ab')\"\n",
              "            title=\"Convert this dataframe to an interactive table.\"\n",
              "            style=\"display:none;\">\n",
              "\n",
              "  <svg xmlns=\"http://www.w3.org/2000/svg\" height=\"24px\" viewBox=\"0 -960 960 960\">\n",
              "    <path d=\"M120-120v-720h720v720H120Zm60-500h600v-160H180v160Zm220 220h160v-160H400v160Zm0 220h160v-160H400v160ZM180-400h160v-160H180v160Zm440 0h160v-160H620v160ZM180-180h160v-160H180v160Zm440 0h160v-160H620v160Z\"/>\n",
              "  </svg>\n",
              "    </button>\n",
              "\n",
              "  <style>\n",
              "    .colab-df-container {\n",
              "      display:flex;\n",
              "      gap: 12px;\n",
              "    }\n",
              "\n",
              "    .colab-df-convert {\n",
              "      background-color: #E8F0FE;\n",
              "      border: none;\n",
              "      border-radius: 50%;\n",
              "      cursor: pointer;\n",
              "      display: none;\n",
              "      fill: #1967D2;\n",
              "      height: 32px;\n",
              "      padding: 0 0 0 0;\n",
              "      width: 32px;\n",
              "    }\n",
              "\n",
              "    .colab-df-convert:hover {\n",
              "      background-color: #E2EBFA;\n",
              "      box-shadow: 0px 1px 2px rgba(60, 64, 67, 0.3), 0px 1px 3px 1px rgba(60, 64, 67, 0.15);\n",
              "      fill: #174EA6;\n",
              "    }\n",
              "\n",
              "    .colab-df-buttons div {\n",
              "      margin-bottom: 4px;\n",
              "    }\n",
              "\n",
              "    [theme=dark] .colab-df-convert {\n",
              "      background-color: #3B4455;\n",
              "      fill: #D2E3FC;\n",
              "    }\n",
              "\n",
              "    [theme=dark] .colab-df-convert:hover {\n",
              "      background-color: #434B5C;\n",
              "      box-shadow: 0px 1px 3px 1px rgba(0, 0, 0, 0.15);\n",
              "      filter: drop-shadow(0px 1px 2px rgba(0, 0, 0, 0.3));\n",
              "      fill: #FFFFFF;\n",
              "    }\n",
              "  </style>\n",
              "\n",
              "    <script>\n",
              "      const buttonEl =\n",
              "        document.querySelector('#df-a21b4a0f-dcc9-4acf-8083-0d57b9e0b5ab button.colab-df-convert');\n",
              "      buttonEl.style.display =\n",
              "        google.colab.kernel.accessAllowed ? 'block' : 'none';\n",
              "\n",
              "      async function convertToInteractive(key) {\n",
              "        const element = document.querySelector('#df-a21b4a0f-dcc9-4acf-8083-0d57b9e0b5ab');\n",
              "        const dataTable =\n",
              "          await google.colab.kernel.invokeFunction('convertToInteractive',\n",
              "                                                    [key], {});\n",
              "        if (!dataTable) return;\n",
              "\n",
              "        const docLinkHtml = 'Like what you see? Visit the ' +\n",
              "          '<a target=\"_blank\" href=https://colab.research.google.com/notebooks/data_table.ipynb>data table notebook</a>'\n",
              "          + ' to learn more about interactive tables.';\n",
              "        element.innerHTML = '';\n",
              "        dataTable['output_type'] = 'display_data';\n",
              "        await google.colab.output.renderOutput(dataTable, element);\n",
              "        const docLink = document.createElement('div');\n",
              "        docLink.innerHTML = docLinkHtml;\n",
              "        element.appendChild(docLink);\n",
              "      }\n",
              "    </script>\n",
              "  </div>\n",
              "\n",
              "\n",
              "<div id=\"df-2d0e7362-67ab-4cbe-8d4c-1c424c975281\">\n",
              "  <button class=\"colab-df-quickchart\" onclick=\"quickchart('df-2d0e7362-67ab-4cbe-8d4c-1c424c975281')\"\n",
              "            title=\"Suggest charts\"\n",
              "            style=\"display:none;\">\n",
              "\n",
              "<svg xmlns=\"http://www.w3.org/2000/svg\" height=\"24px\"viewBox=\"0 0 24 24\"\n",
              "     width=\"24px\">\n",
              "    <g>\n",
              "        <path d=\"M19 3H5c-1.1 0-2 .9-2 2v14c0 1.1.9 2 2 2h14c1.1 0 2-.9 2-2V5c0-1.1-.9-2-2-2zM9 17H7v-7h2v7zm4 0h-2V7h2v10zm4 0h-2v-4h2v4z\"/>\n",
              "    </g>\n",
              "</svg>\n",
              "  </button>\n",
              "\n",
              "<style>\n",
              "  .colab-df-quickchart {\n",
              "      --bg-color: #E8F0FE;\n",
              "      --fill-color: #1967D2;\n",
              "      --hover-bg-color: #E2EBFA;\n",
              "      --hover-fill-color: #174EA6;\n",
              "      --disabled-fill-color: #AAA;\n",
              "      --disabled-bg-color: #DDD;\n",
              "  }\n",
              "\n",
              "  [theme=dark] .colab-df-quickchart {\n",
              "      --bg-color: #3B4455;\n",
              "      --fill-color: #D2E3FC;\n",
              "      --hover-bg-color: #434B5C;\n",
              "      --hover-fill-color: #FFFFFF;\n",
              "      --disabled-bg-color: #3B4455;\n",
              "      --disabled-fill-color: #666;\n",
              "  }\n",
              "\n",
              "  .colab-df-quickchart {\n",
              "    background-color: var(--bg-color);\n",
              "    border: none;\n",
              "    border-radius: 50%;\n",
              "    cursor: pointer;\n",
              "    display: none;\n",
              "    fill: var(--fill-color);\n",
              "    height: 32px;\n",
              "    padding: 0;\n",
              "    width: 32px;\n",
              "  }\n",
              "\n",
              "  .colab-df-quickchart:hover {\n",
              "    background-color: var(--hover-bg-color);\n",
              "    box-shadow: 0 1px 2px rgba(60, 64, 67, 0.3), 0 1px 3px 1px rgba(60, 64, 67, 0.15);\n",
              "    fill: var(--button-hover-fill-color);\n",
              "  }\n",
              "\n",
              "  .colab-df-quickchart-complete:disabled,\n",
              "  .colab-df-quickchart-complete:disabled:hover {\n",
              "    background-color: var(--disabled-bg-color);\n",
              "    fill: var(--disabled-fill-color);\n",
              "    box-shadow: none;\n",
              "  }\n",
              "\n",
              "  .colab-df-spinner {\n",
              "    border: 2px solid var(--fill-color);\n",
              "    border-color: transparent;\n",
              "    border-bottom-color: var(--fill-color);\n",
              "    animation:\n",
              "      spin 1s steps(1) infinite;\n",
              "  }\n",
              "\n",
              "  @keyframes spin {\n",
              "    0% {\n",
              "      border-color: transparent;\n",
              "      border-bottom-color: var(--fill-color);\n",
              "      border-left-color: var(--fill-color);\n",
              "    }\n",
              "    20% {\n",
              "      border-color: transparent;\n",
              "      border-left-color: var(--fill-color);\n",
              "      border-top-color: var(--fill-color);\n",
              "    }\n",
              "    30% {\n",
              "      border-color: transparent;\n",
              "      border-left-color: var(--fill-color);\n",
              "      border-top-color: var(--fill-color);\n",
              "      border-right-color: var(--fill-color);\n",
              "    }\n",
              "    40% {\n",
              "      border-color: transparent;\n",
              "      border-right-color: var(--fill-color);\n",
              "      border-top-color: var(--fill-color);\n",
              "    }\n",
              "    60% {\n",
              "      border-color: transparent;\n",
              "      border-right-color: var(--fill-color);\n",
              "    }\n",
              "    80% {\n",
              "      border-color: transparent;\n",
              "      border-right-color: var(--fill-color);\n",
              "      border-bottom-color: var(--fill-color);\n",
              "    }\n",
              "    90% {\n",
              "      border-color: transparent;\n",
              "      border-bottom-color: var(--fill-color);\n",
              "    }\n",
              "  }\n",
              "</style>\n",
              "\n",
              "  <script>\n",
              "    async function quickchart(key) {\n",
              "      const quickchartButtonEl =\n",
              "        document.querySelector('#' + key + ' button');\n",
              "      quickchartButtonEl.disabled = true;  // To prevent multiple clicks.\n",
              "      quickchartButtonEl.classList.add('colab-df-spinner');\n",
              "      try {\n",
              "        const charts = await google.colab.kernel.invokeFunction(\n",
              "            'suggestCharts', [key], {});\n",
              "      } catch (error) {\n",
              "        console.error('Error during call to suggestCharts:', error);\n",
              "      }\n",
              "      quickchartButtonEl.classList.remove('colab-df-spinner');\n",
              "      quickchartButtonEl.classList.add('colab-df-quickchart-complete');\n",
              "    }\n",
              "    (() => {\n",
              "      let quickchartButtonEl =\n",
              "        document.querySelector('#df-2d0e7362-67ab-4cbe-8d4c-1c424c975281 button');\n",
              "      quickchartButtonEl.style.display =\n",
              "        google.colab.kernel.accessAllowed ? 'block' : 'none';\n",
              "    })();\n",
              "  </script>\n",
              "</div>\n",
              "\n",
              "    </div>\n",
              "  </div>\n"
            ],
            "application/vnd.google.colaboratory.intrinsic+json": {
              "type": "dataframe",
              "variable_name": "df"
            }
          },
          "metadata": {},
          "execution_count": 1
        }
      ],
      "source": [
        "\n",
        "import pandas as pd\n",
        "\n",
        "# Load dataset\n",
        "df = pd.read_csv(\"WA_Fn-UseC_-Telco-Customer-Churn.csv\")\n",
        "df.head()\n"
      ]
    },
    {
      "cell_type": "markdown",
      "id": "1f4f9938",
      "metadata": {
        "id": "1f4f9938"
      },
      "source": [
        "## Step 2: Preprocessing\n",
        "\n",
        "**What it does:** Prepares the data for machine learning by:\n",
        "  * Removing irrelevant columns (customerID).\n",
        "  * Converting data types (TotalCharges to numeric).\n",
        "  * Handling missing values (dropping rows with missing data).\n",
        "  * Encoding categorical features (using one-hot encoding).\n",
        "  * Encoding the target variable ('Churn') to numerical values (0 and 1).\n",
        "**Why it's important:** Data preprocessing ensures that the data is in a suitable format for machine learning algorithms to work effectively."
      ]
    },
    {
      "cell_type": "code",
      "execution_count": 2,
      "id": "4dd4435f",
      "metadata": {
        "id": "4dd4435f"
      },
      "outputs": [],
      "source": [
        "\n",
        "# Drop ID column, convert TotalCharges, handle missing\n",
        "df.drop('customerID', axis=1, inplace=True)\n",
        "df['TotalCharges'] = pd.to_numeric(df['TotalCharges'], errors='coerce')\n",
        "df.dropna(inplace=True)\n",
        "\n",
        "# Encode target\n",
        "df['Churn'] = df['Churn'].map({'Yes': 1, 'No': 0})\n",
        "\n",
        "# One-hot encode categorical features\n",
        "X = pd.get_dummies(df.drop('Churn', axis=1), drop_first=True)\n",
        "y = df['Churn']\n"
      ]
    },
    {
      "cell_type": "markdown",
      "id": "543bac72",
      "metadata": {
        "id": "543bac72"
      },
      "source": [
        "## Step 3: Train-Test Split\n",
        "\n",
        "**What it does:** Divides the dataset into training and testing sets.\n",
        "**Why it's important:** This ensures that we have a separate dataset to evaluate the performance of our trained model on unseen data, preventing overfitting."
      ]
    },
    {
      "cell_type": "code",
      "execution_count": 3,
      "id": "37305fc8",
      "metadata": {
        "id": "37305fc8"
      },
      "outputs": [],
      "source": [
        "\n",
        "from sklearn.model_selection import train_test_split\n",
        "\n",
        "X_train, X_test, y_train, y_test = train_test_split(X, y, test_size=0.3, stratify=y, random_state=42)\n"
      ]
    },
    {
      "cell_type": "markdown",
      "id": "e8147beb",
      "metadata": {
        "id": "e8147beb"
      },
      "source": [
        "## Step 4: Grid Search\n",
        "\n",
        "**What it does:** Systematically explores a predefined set of hyperparameters for a RandomForestClassifier using GridSearchCV.\n",
        "**Why it's important:** Grid search helps us find the optimal combination of hyperparameters that yields the best model performance, measured by ROC AUC score."
      ]
    },
    {
      "cell_type": "code",
      "execution_count": 4,
      "id": "d35311cc",
      "metadata": {
        "colab": {
          "base_uri": "https://localhost:8080/"
        },
        "id": "d35311cc",
        "outputId": "f96e9036-c45e-4df0-d69f-a32a9cb5eb1a"
      },
      "outputs": [
        {
          "output_type": "execute_result",
          "data": {
            "text/plain": [
              "({'max_depth': 5, 'min_samples_split': 2, 'n_estimators': 100},\n",
              " np.float64(0.8346572856503361),\n",
              " 39.75951528549194)"
            ]
          },
          "metadata": {},
          "execution_count": 4
        }
      ],
      "source": [
        "\n",
        "from sklearn.ensemble import RandomForestClassifier\n",
        "from sklearn.model_selection import GridSearchCV\n",
        "from sklearn.metrics import roc_auc_score\n",
        "import time\n",
        "\n",
        "param_grid = {'n_estimators': [50, 100], 'max_depth': [5, 10], 'min_samples_split': [2, 5]}\n",
        "grid_model = RandomForestClassifier(random_state=42)\n",
        "start = time.time()\n",
        "grid_cv = GridSearchCV(grid_model, param_grid, cv=5, scoring='roc_auc', n_jobs=-1)\n",
        "grid_cv.fit(X_train, y_train)\n",
        "grid_time = time.time() - start\n",
        "best_grid = grid_cv.best_estimator_\n",
        "roc_auc_grid = roc_auc_score(y_test, best_grid.predict_proba(X_test)[:, 1])\n",
        "grid_cv.best_params_, roc_auc_grid, grid_time\n"
      ]
    },
    {
      "cell_type": "markdown",
      "id": "2aba079b",
      "metadata": {
        "id": "2aba079b"
      },
      "source": [
        "## Step 5: Random Search\n",
        "\n",
        "**What it does:** Randomly samples hyperparameters within specified ranges using RandomizedSearchCV.\n",
        "**Why it's important:** Random search can be more efficient than grid search, especially when exploring a large hyperparameter space. It also allows for greater flexibility in defining the search space."
      ]
    },
    {
      "cell_type": "code",
      "execution_count": 5,
      "id": "9af2c63c",
      "metadata": {
        "colab": {
          "base_uri": "https://localhost:8080/"
        },
        "id": "9af2c63c",
        "outputId": "aac5b9f9-192a-4cd4-ef75-114e82f097bc"
      },
      "outputs": [
        {
          "output_type": "execute_result",
          "data": {
            "text/plain": [
              "({'max_depth': 8, 'min_samples_split': 3, 'n_estimators': 113},\n",
              " np.float64(0.8375658380025524),\n",
              " 36.76907515525818)"
            ]
          },
          "metadata": {},
          "execution_count": 5
        }
      ],
      "source": [
        "\n",
        "from sklearn.model_selection import RandomizedSearchCV\n",
        "from scipy.stats import randint\n",
        "\n",
        "param_dist = {'n_estimators': randint(50, 150), 'max_depth': randint(3, 20), 'min_samples_split': randint(2, 10)}\n",
        "random_model = RandomForestClassifier(random_state=42)\n",
        "start = time.time()\n",
        "random_cv = RandomizedSearchCV(random_model, param_distributions=param_dist, n_iter=10, scoring='roc_auc', cv=5, random_state=42, n_jobs=-1)\n",
        "random_cv.fit(X_train, y_train)\n",
        "random_time = time.time() - start\n",
        "best_random = random_cv.best_estimator_\n",
        "roc_auc_random = roc_auc_score(y_test, best_random.predict_proba(X_test)[:, 1])\n",
        "random_cv.best_params_, roc_auc_random, random_time\n"
      ]
    },
    {
      "cell_type": "markdown",
      "id": "55028df1",
      "metadata": {
        "id": "55028df1"
      },
      "source": [
        "## Step 6: Bayesian Optimization\n",
        "\n",
        "**What it does:** Uses Bayesian optimization (with Optuna) to intelligently search for the best hyperparameters.\n",
        "**Why it's important:** Bayesian optimization can be even more efficient than random search by using previous evaluations to guide the search process, potentially finding better solutions with fewer iterations."
      ]
    },
    {
      "cell_type": "code",
      "source": [
        "pip install optuna"
      ],
      "metadata": {
        "colab": {
          "base_uri": "https://localhost:8080/"
        },
        "id": "9jFdNWvIRX3F",
        "outputId": "21c362c9-94bf-4195-9199-226fe58bc5cf"
      },
      "id": "9jFdNWvIRX3F",
      "execution_count": 7,
      "outputs": [
        {
          "output_type": "stream",
          "name": "stdout",
          "text": [
            "Collecting optuna\n",
            "  Downloading optuna-4.2.1-py3-none-any.whl.metadata (17 kB)\n",
            "Collecting alembic>=1.5.0 (from optuna)\n",
            "  Downloading alembic-1.15.1-py3-none-any.whl.metadata (7.2 kB)\n",
            "Collecting colorlog (from optuna)\n",
            "  Downloading colorlog-6.9.0-py3-none-any.whl.metadata (10 kB)\n",
            "Requirement already satisfied: numpy in /usr/local/lib/python3.11/dist-packages (from optuna) (2.0.2)\n",
            "Requirement already satisfied: packaging>=20.0 in /usr/local/lib/python3.11/dist-packages (from optuna) (24.2)\n",
            "Requirement already satisfied: sqlalchemy>=1.4.2 in /usr/local/lib/python3.11/dist-packages (from optuna) (2.0.39)\n",
            "Requirement already satisfied: tqdm in /usr/local/lib/python3.11/dist-packages (from optuna) (4.67.1)\n",
            "Requirement already satisfied: PyYAML in /usr/local/lib/python3.11/dist-packages (from optuna) (6.0.2)\n",
            "Requirement already satisfied: Mako in /usr/lib/python3/dist-packages (from alembic>=1.5.0->optuna) (1.1.3)\n",
            "Requirement already satisfied: typing-extensions>=4.12 in /usr/local/lib/python3.11/dist-packages (from alembic>=1.5.0->optuna) (4.12.2)\n",
            "Requirement already satisfied: greenlet!=0.4.17 in /usr/local/lib/python3.11/dist-packages (from sqlalchemy>=1.4.2->optuna) (3.1.1)\n",
            "Downloading optuna-4.2.1-py3-none-any.whl (383 kB)\n",
            "\u001b[2K   \u001b[90m━━━━━━━━━━━━━━━━━━━━━━━━━━━━━━━━━━━━━━━━\u001b[0m \u001b[32m383.6/383.6 kB\u001b[0m \u001b[31m6.4 MB/s\u001b[0m eta \u001b[36m0:00:00\u001b[0m\n",
            "\u001b[?25hDownloading alembic-1.15.1-py3-none-any.whl (231 kB)\n",
            "\u001b[2K   \u001b[90m━━━━━━━━━━━━━━━━━━━━━━━━━━━━━━━━━━━━━━━━\u001b[0m \u001b[32m231.8/231.8 kB\u001b[0m \u001b[31m5.9 MB/s\u001b[0m eta \u001b[36m0:00:00\u001b[0m\n",
            "\u001b[?25hDownloading colorlog-6.9.0-py3-none-any.whl (11 kB)\n",
            "Installing collected packages: colorlog, alembic, optuna\n",
            "Successfully installed alembic-1.15.1 colorlog-6.9.0 optuna-4.2.1\n"
          ]
        }
      ]
    },
    {
      "cell_type": "code",
      "execution_count": 8,
      "id": "31672e60",
      "metadata": {
        "colab": {
          "base_uri": "https://localhost:8080/"
        },
        "id": "31672e60",
        "outputId": "c9627860-e331-4830-cbc0-2b4792f64316"
      },
      "outputs": [
        {
          "output_type": "stream",
          "name": "stderr",
          "text": [
            "[I 2025-03-27 11:05:07,683] A new study created in memory with name: no-name-a3b1451a-cefd-41c1-84e7-d1f6917552eb\n",
            "[I 2025-03-27 11:05:13,018] Trial 0 finished with value: 0.8416162238588554 and parameters: {'n_estimators': 100, 'max_depth': 20, 'min_samples_split': 8}. Best is trial 0 with value: 0.8416162238588554.\n",
            "[I 2025-03-27 11:05:18,056] Trial 1 finished with value: 0.8434727815901872 and parameters: {'n_estimators': 89, 'max_depth': 11, 'min_samples_split': 7}. Best is trial 1 with value: 0.8434727815901872.\n",
            "[I 2025-03-27 11:05:22,714] Trial 2 finished with value: 0.841864447413234 and parameters: {'n_estimators': 57, 'max_depth': 12, 'min_samples_split': 6}. Best is trial 1 with value: 0.8434727815901872.\n",
            "[I 2025-03-27 11:05:27,345] Trial 3 finished with value: 0.8315730137763682 and parameters: {'n_estimators': 81, 'max_depth': 16, 'min_samples_split': 3}. Best is trial 1 with value: 0.8434727815901872.\n",
            "[I 2025-03-27 11:05:35,785] Trial 4 finished with value: 0.8412793984512138 and parameters: {'n_estimators': 133, 'max_depth': 16, 'min_samples_split': 8}. Best is trial 1 with value: 0.8434727815901872.\n",
            "[I 2025-03-27 11:05:39,120] Trial 5 finished with value: 0.8385734684783082 and parameters: {'n_estimators': 125, 'max_depth': 15, 'min_samples_split': 5}. Best is trial 1 with value: 0.8434727815901872.\n",
            "[I 2025-03-27 11:05:41,730] Trial 6 finished with value: 0.8346677992768845 and parameters: {'n_estimators': 91, 'max_depth': 15, 'min_samples_split': 3}. Best is trial 1 with value: 0.8434727815901872.\n",
            "[I 2025-03-27 11:05:43,482] Trial 7 finished with value: 0.8470871822743848 and parameters: {'n_estimators': 89, 'max_depth': 7, 'min_samples_split': 10}. Best is trial 7 with value: 0.8470871822743848.\n",
            "[I 2025-03-27 11:05:46,344] Trial 8 finished with value: 0.845883643278228 and parameters: {'n_estimators': 148, 'max_depth': 5, 'min_samples_split': 4}. Best is trial 7 with value: 0.8470871822743848.\n",
            "[I 2025-03-27 11:05:49,554] Trial 9 finished with value: 0.8465937957037374 and parameters: {'n_estimators': 132, 'max_depth': 8, 'min_samples_split': 10}. Best is trial 7 with value: 0.8470871822743848.\n",
            "[I 2025-03-27 11:05:50,383] Trial 10 finished with value: 0.8377559666457042 and parameters: {'n_estimators': 57, 'max_depth': 3, 'min_samples_split': 10}. Best is trial 7 with value: 0.8470871822743848.\n",
            "[I 2025-03-27 11:05:52,688] Trial 11 finished with value: 0.8473409700805938 and parameters: {'n_estimators': 116, 'max_depth': 7, 'min_samples_split': 10}. Best is trial 11 with value: 0.8473409700805938.\n",
            "[I 2025-03-27 11:05:54,970] Trial 12 finished with value: 0.8471886506165938 and parameters: {'n_estimators': 115, 'max_depth': 7, 'min_samples_split': 9}. Best is trial 11 with value: 0.8473409700805938.\n",
            "[I 2025-03-27 11:05:57,449] Trial 13 finished with value: 0.8456059450803689 and parameters: {'n_estimators': 111, 'max_depth': 9, 'min_samples_split': 8}. Best is trial 11 with value: 0.8473409700805938.\n",
            "[I 2025-03-27 11:06:00,197] Trial 14 finished with value: 0.8458556664854356 and parameters: {'n_estimators': 114, 'max_depth': 5, 'min_samples_split': 9}. Best is trial 11 with value: 0.8473409700805938.\n",
            "[I 2025-03-27 11:06:02,933] Trial 15 finished with value: 0.8451368787953688 and parameters: {'n_estimators': 111, 'max_depth': 11, 'min_samples_split': 9}. Best is trial 11 with value: 0.8473409700805938.\n",
            "[I 2025-03-27 11:06:04,976] Trial 16 finished with value: 0.8392342729470631 and parameters: {'n_estimators': 149, 'max_depth': 3, 'min_samples_split': 6}. Best is trial 11 with value: 0.8473409700805938.\n",
            "[I 2025-03-27 11:06:06,290] Trial 17 finished with value: 0.8463342077524947 and parameters: {'n_estimators': 70, 'max_depth': 6, 'min_samples_split': 9}. Best is trial 11 with value: 0.8473409700805938.\n",
            "[I 2025-03-27 11:06:09,005] Trial 18 finished with value: 0.8462595037584022 and parameters: {'n_estimators': 121, 'max_depth': 9, 'min_samples_split': 7}. Best is trial 11 with value: 0.8473409700805938.\n",
            "[I 2025-03-27 11:06:12,648] Trial 19 finished with value: 0.8366109663589574 and parameters: {'n_estimators': 105, 'max_depth': 13, 'min_samples_split': 2}. Best is trial 11 with value: 0.8473409700805938.\n"
          ]
        },
        {
          "output_type": "execute_result",
          "data": {
            "text/plain": [
              "({'n_estimators': 116, 'max_depth': 7, 'min_samples_split': 10},\n",
              " np.float64(0.8384243068669454),\n",
              " 64.96965479850769)"
            ]
          },
          "metadata": {},
          "execution_count": 8
        }
      ],
      "source": [
        "\n",
        "import optuna\n",
        "from sklearn.model_selection import cross_val_score\n",
        "\n",
        "def objective(trial):\n",
        "    model = RandomForestClassifier(\n",
        "        n_estimators=trial.suggest_int('n_estimators', 50, 150),\n",
        "        max_depth=trial.suggest_int('max_depth', 3, 20),\n",
        "        min_samples_split=trial.suggest_int('min_samples_split', 2, 10),\n",
        "        random_state=42\n",
        "    )\n",
        "    return cross_val_score(model, X_train, y_train, cv=5, scoring='roc_auc').mean()\n",
        "\n",
        "start = time.time()\n",
        "study = optuna.create_study(direction='maximize')\n",
        "study.optimize(objective, n_trials=20)\n",
        "bayes_time = time.time() - start\n",
        "best_bayes = RandomForestClassifier(**study.best_params, random_state=42)\n",
        "best_bayes.fit(X_train, y_train)\n",
        "roc_auc_bayes = roc_auc_score(y_test, best_bayes.predict_proba(X_test)[:, 1])\n",
        "study.best_params, roc_auc_bayes, bayes_time\n"
      ]
    },
    {
      "cell_type": "markdown",
      "id": "97f7458a",
      "metadata": {
        "id": "97f7458a"
      },
      "source": [
        "## Step 7: ROC Curve Comparison\n",
        "\n",
        "**What it does:** Visually compares the performance of the models trained using grid search, random search, and Bayesian optimization by plotting their ROC curves and calculating AUC scores.\n",
        "**Why it's important:**  ROC curves and AUC scores provide a comprehensive evaluation of a classification model's ability to distinguish between classes."
      ]
    },
    {
      "cell_type": "code",
      "execution_count": 9,
      "id": "92b66c1f",
      "metadata": {
        "colab": {
          "base_uri": "https://localhost:8080/",
          "height": 607
        },
        "id": "92b66c1f",
        "outputId": "593755cc-7ab4-420e-f1ba-fbb778de2587"
      },
      "outputs": [
        {
          "output_type": "display_data",
          "data": {
            "text/plain": [
              "<Figure size 800x600 with 1 Axes>"
            ],
            "image/png": "[encoded data removed]"
          },
          "metadata": {}
        }
      ],
      "source": [
        "\n",
        "from sklearn.metrics import roc_curve, auc\n",
        "import matplotlib.pyplot as plt\n",
        "\n",
        "# Predicted probabilities\n",
        "y_proba_grid = best_grid.predict_proba(X_test)[:, 1]\n",
        "y_proba_random = best_random.predict_proba(X_test)[:, 1]\n",
        "y_proba_bayes = best_bayes.predict_proba(X_test)[:, 1]\n",
        "\n",
        "# Compute ROC\n",
        "fpr_grid, tpr_grid, _ = roc_curve(y_test, y_proba_grid)\n",
        "fpr_random, tpr_random, _ = roc_curve(y_test, y_proba_random)\n",
        "fpr_bayes, tpr_bayes, _ = roc_curve(y_test, y_proba_bayes)\n",
        "\n",
        "# Plot\n",
        "plt.figure(figsize=(8, 6))\n",
        "plt.plot(fpr_grid, tpr_grid, label=f'Grid (AUC = {auc(fpr_grid, tpr_grid):.2f})')\n",
        "plt.plot(fpr_random, tpr_random, label=f'Random (AUC = {auc(fpr_random, tpr_random):.2f})')\n",
        "plt.plot(fpr_bayes, tpr_bayes, label=f'Bayesian (AUC = {auc(fpr_bayes, tpr_bayes):.2f})')\n",
        "plt.plot([0, 1], [0, 1], 'k--')\n",
        "plt.title('ROC Curve Comparison')\n",
        "plt.xlabel('False Positive Rate')\n",
        "plt.ylabel('True Positive Rate')\n",
        "plt.legend()\n",
        "plt.grid(True)\n",
        "plt.tight_layout()\n",
        "plt.show()\n"
      ]
    },
    {
      "cell_type": "markdown",
      "id": "328b07b6",
      "metadata": {
        "id": "328b07b6"
      },
      "source": [
        "## Step 8: Confusion Matrix Comparison\n",
        "\n",
        "**What it does:** Creates confusion matrices for each model to visualize the number of true positives, true negatives, false positives, and false negatives.\n",
        "**Why it's important:** Confusion matrices provide a detailed breakdown of a classification model's performance, highlighting its strengths and weaknesses in predicting different classes."
      ]
    },
    {
      "cell_type": "code",
      "execution_count": 10,
      "id": "8a3ad8fe",
      "metadata": {
        "colab": {
          "base_uri": "https://localhost:8080/",
          "height": 371
        },
        "id": "8a3ad8fe",
        "outputId": "22b7cbde-6083-4445-cfdf-05a53f1c4830"
      },
      "outputs": [
        {
          "output_type": "display_data",
          "data": {
            "text/plain": [
              "<Figure size 1800x500 with 6 Axes>"
            ],
            "image/png": "[encoded data removed]"
          },
          "metadata": {}
        }
      ],
      "source": [
        "\n",
        "from sklearn.metrics import confusion_matrix, ConfusionMatrixDisplay\n",
        "\n",
        "models = [('Grid Search', best_grid), ('Random Search', best_random), ('Bayesian', best_bayes)]\n",
        "\n",
        "fig, axes = plt.subplots(1, 3, figsize=(18, 5))\n",
        "for i, (name, model) in enumerate(models):\n",
        "    cm = confusion_matrix(y_test, model.predict(X_test))\n",
        "    disp = ConfusionMatrixDisplay(cm, display_labels=model.classes_)\n",
        "    disp.plot(ax=axes[i], values_format='d')\n",
        "    axes[i].set_title(f'{name} Confusion Matrix')\n",
        "plt.tight_layout()\n",
        "plt.show()\n"
      ]
    }
  ],
  "metadata": {
    "colab": {
      "provenance": []
    },
    "language_info": {
      "name": "python"
    },
    "kernelspec": {
      "name": "python3",
      "display_name": "Python 3"
    }
  },
  "nbformat": 4,
  "nbformat_minor": 5
}